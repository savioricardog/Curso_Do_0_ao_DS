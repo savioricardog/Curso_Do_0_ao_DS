{
 "cells": [
  {
   "cell_type": "markdown",
   "id": "c87406f8",
   "metadata": {},
   "source": [
    "# Primeiros códigos para extração de dados."
   ]
  },
  {
   "cell_type": "raw",
   "id": "456e328b",
   "metadata": {},
   "source": [
    "Iniciando o curso de introdução ao Data Science do @meigarom.lopes, \"Python do 0 ao DS\", na comunidade DS."
   ]
  },
  {
   "cell_type": "raw",
   "id": "f20a69fa",
   "metadata": {},
   "source": [
    "Estarei apresentando aqui os conceitos de extração, tratamento, manipulação e análise de dados, que estarei aprendendo ao longo do curso. E conforme eu esteja adquirindo conhecimento, irei começar a trazer analises de cases reais."
   ]
  },
  {
   "cell_type": "raw",
   "id": "51a76449",
   "metadata": {},
   "source": [
    "Começando demonstrando a minha resolução dos exercicios práticos da aula 03 do curso. Exercicio encontrado no Kaggle (https://www.kaggle.com/datasets/harlfoxem/housesalesprediction), que é uma base de dados, referente a casas que estão à venda em Seatle, nos Estados Unidos. E sobre esse case, iremos responder algumas perguntas de negócios."
   ]
  },
  {
   "cell_type": "code",
   "execution_count": 32,
   "id": "544fe98d",
   "metadata": {},
   "outputs": [],
   "source": [
    "import pandas as pd # Importando a biblioteca que será usada nestes exercicios e definindo o apelido."
   ]
  },
  {
   "cell_type": "code",
   "execution_count": 33,
   "id": "fbf4463a",
   "metadata": {},
   "outputs": [],
   "source": [
    "data = pd.read_csv('C:\\\\Users\\\\savio\\\\anaconda3\\\\Jupyter\\\\kc_house_data.csv') # Localizando a base de dados e atribuindo ao objeto \"data\""
   ]
  },
  {
   "cell_type": "markdown",
   "id": "c5c9f138",
   "metadata": {},
   "source": [
    "# 1- CRIE UMA NOVA COLUNA CHAMADA \"HOUSE_AGE\"\n",
    "    SE O VALOR DA COLUNA DATE FOR <(MAIOR) QUE 2014-01-01 -> \"NEW_HOUSE\"\n",
    "    SE O VALOR DA COLUNA DATE FOR >(MENOR) QUE 2014-01-01 -> \"OLD_HOUSE\"."
   ]
  },
  {
   "cell_type": "code",
   "execution_count": 40,
   "id": "950329b9",
   "metadata": {
    "scrolled": true
   },
   "outputs": [
    {
     "name": "stdout",
     "output_type": "stream",
     "text": [
      "           id     price       date  house_age\n",
      "0  7129300520  221900.0 2014-10-13  new_house\n",
      "1  6414100192  538000.0 2014-12-09  new_house\n",
      "2  5631500400  180000.0 2015-02-25  new_house\n",
      "3  2487200875  604000.0 2014-12-09  new_house\n",
      "4  1954400510  510000.0 2015-02-18  new_house\n"
     ]
    }
   ],
   "source": [
    "data ['house_age'] = 'standard' # criando a nova coluna\n",
    "data['date'] = pd.to_datetime(data['date']) # transformando a coluna 'date' no formato de data\n",
    "data.loc[data['date'] > '2014-01-01', 'house_age'] = 'new_house' # classificando as datas\n",
    "data.loc[data['date'] < '2014-01-01', 'house_age'] = 'old_house' # classificando as datas\n",
    "print(data[['id','price','date','house_age']].head()) # validando se a criação + classificação deu certo\n",
    "report = data[['id','price','date','house_age']].sort_values('date', ascending=True) # filtrando colunas desejadas para exportar para .csv\n",
    "report.to_csv('D:\\\\repositorio\\\\datasets\\\\report_house_age.csv') # exportando para excel (.csv) as informações filtradas."
   ]
  },
  {
   "cell_type": "markdown",
   "id": "0b6bf225",
   "metadata": {},
   "source": [
    "# 2- CRIE UMA NOVA COLUNA CHAMADA: 'DORMITORY_TYPE\" \n",
    "    SE O VALOR DA COLUNA 'BEDROOMS' FOR < (MENOR) QUE 1 -> 'ROOM'\n",
    "    SE O VALOR DA COLUNA 'BEDROOMS' FOR == (IGUAL) A 1 -> 'STUDIO'\n",
    "    SE O VALOR DA COLUNA 'BEDROOMS' FOR == (IGUAL) A 2 -> 'APARTAMENT'\n",
    "    SE O VALOR DA COLUNA 'BEDROOMS' FOR MAIOR > (MAIOR) QUE 2 -> 'HOUSE'\n"
   ]
  },
  {
   "cell_type": "code",
   "execution_count": 35,
   "id": "5210086d",
   "metadata": {},
   "outputs": [
    {
     "name": "stdout",
     "output_type": "stream",
     "text": [
      "           id     price  bedrooms dormitory_type\n",
      "0  7129300520  221900.0         3          house\n",
      "1  6414100192  538000.0         3          house\n",
      "2  5631500400  180000.0         2      apartment\n",
      "3  2487200875  604000.0         4          house\n",
      "4  1954400510  510000.0         3          house\n"
     ]
    }
   ],
   "source": [
    "data['dormitory_type'] = 'standard'\n",
    "data.loc[data['bedrooms'] < 1, 'dormitory_type'] = 'room'\n",
    "data.loc[data['bedrooms'] == 1, 'dormitory_type'] = 'studio'\n",
    "data.loc[data['bedrooms'] == 2, 'dormitory_type'] = 'apartment'\n",
    "data.loc[data['bedrooms'] > 2, 'dormitory_type'] = 'house'\n",
    "print(data[['id','price','bedrooms','dormitory_type']].head())\n",
    "report = data[['id','price','bedrooms','dormitory_type']].sort_values('bedrooms', ascending=True)\n",
    "report.to_csv('D:\\\\repositorio\\\\datasets\\\\report_dormitory_type.csv')"
   ]
  },
  {
   "cell_type": "markdown",
   "id": "e5c83518",
   "metadata": {},
   "source": [
    "# 3- CRIE UMA NOVA COLUNA CHAMADO ' CONDITION_TYPE'\n",
    "    SE O VAOR DA COLUNA 'CONDITION' FOR MENOR OU IGUAL A 2 -> 'BAD'\n",
    "    SE O VALOR DA COLUNA 'CONDITION' FOR IGUAL A 3 OU 4 -> 'REGULAR'\n",
    "    SE O VALOR DA COLUNA 'CONDITION' FOR IGUAL A 5 -> 'GOOD'"
   ]
  },
  {
   "cell_type": "code",
   "execution_count": 36,
   "id": "3d3dd69c",
   "metadata": {},
   "outputs": [
    {
     "name": "stdout",
     "output_type": "stream",
     "text": [
      "<bound method NDFrame.head of                id  condition condition_type\n",
      "0      7129300520          3        regular\n",
      "1      6414100192          3        regular\n",
      "2      5631500400          3        regular\n",
      "3      2487200875          5           good\n",
      "4      1954400510          3        regular\n",
      "...           ...        ...            ...\n",
      "21608   263000018          3        regular\n",
      "21609  6600060120          3        regular\n",
      "21610  1523300141          3        regular\n",
      "21611   291310100          3        regular\n",
      "21612  1523300157          3        regular\n",
      "\n",
      "[21613 rows x 3 columns]>\n",
      "(5679, 3)\n",
      "(14031, 3)\n"
     ]
    }
   ],
   "source": [
    "data['condition_type'] = 'standard'\n",
    "data.loc[data['condition'] <= 2, 'condition_type'] = 'bad'\n",
    "data.loc[data['condition'] == 3, 'condition_type'] = 'regular'\n",
    "data.loc[data['condition'] == 4, 'condition_type'] = 'regular'\n",
    "data.loc[data['condition'] == 5, 'condition_type'] = 'good'\n",
    "print(data[['id','condition','condition_type']].head)\n",
    "print(data.loc[data['condition'] == 4, ['id','condition','condition_type']].shape) # print para teste de condição\n",
    "print(data.loc[data['condition'] == 3, ['id','condition','condition_type']].shape) # print para teste de condição\n",
    "report = data[['id','price','condition','condition_type']]\n",
    "report.to_csv('D:\\\\repositorio\\\\datasets\\\\condition_type.csv')"
   ]
  }
 ],
 "metadata": {
  "kernelspec": {
   "display_name": "Python 3 (ipykernel)",
   "language": "python",
   "name": "python3"
  },
  "language_info": {
   "codemirror_mode": {
    "name": "ipython",
    "version": 3
   },
   "file_extension": ".py",
   "mimetype": "text/x-python",
   "name": "python",
   "nbconvert_exporter": "python",
   "pygments_lexer": "ipython3",
   "version": "3.10.3"
  }
 },
 "nbformat": 4,
 "nbformat_minor": 5
}
