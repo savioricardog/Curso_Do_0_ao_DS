{
 "cells": [
  {
   "cell_type": "markdown",
   "id": "c87406f8",
   "metadata": {},
   "source": [
    "# Primeiros códigos para extração de dados."
   ]
  },
  {
   "cell_type": "markdown",
   "id": "02210418",
   "metadata": {},
   "source": [
    "Iniciando o curso de introdução ao Data Science do @meigarom.lopes, \"Python do 0 ao DS\", na comunidade DS."
   ]
  },
  {
   "cell_type": "markdown",
   "id": "c9a3db85",
   "metadata": {},
   "source": [
    "Estarei apresentando aqui os conceitos de extração, tratamento, manipulação e análise de dados, que estarei aprendendo ao longo do curso. E conforme eu esteja adquirindo conhecimento, irei começar a trazer analises de cases reais."
   ]
  },
  {
   "cell_type": "markdown",
   "id": "2e09086d",
   "metadata": {},
   "source": [
    "Começando demonstrando a minha resolução dos exercicios práticos da aula 03 do curso. Exercicio encontrado no Kaggle (https://www.kaggle.com/datasets/harlfoxem/housesalesprediction), que é uma base de dados, referente a casas que estão à venda em Seatle, nos Estados Unidos. E sobre esse case, iremos responder algumas perguntas de negócios.\n",
    "(OBS: As colunas que constam um código com \"#\", existem por que foram exercicios aos quais eu resolvi de maneira diferente a qual o professor Meigarom resolveu, então deixei meu código e o dele para entender melhor :) )"
   ]
  },
  {
   "cell_type": "code",
   "execution_count": 48,
   "id": "544fe98d",
   "metadata": {},
   "outputs": [],
   "source": [
    "import pandas as pd # Importando a biblioteca que será usada nestes exercicios e definindo o apelido."
   ]
  },
  {
   "cell_type": "code",
   "execution_count": 49,
   "id": "fbf4463a",
   "metadata": {},
   "outputs": [],
   "source": [
    "data = pd.read_csv('C:\\\\Users\\\\savio\\\\anaconda3\\\\Jupyter\\\\kc_house_data.csv') # Localizando a base de dados e atribuindo ao objeto \"data\""
   ]
  },
  {
   "cell_type": "markdown",
   "id": "c5c9f138",
   "metadata": {},
   "source": [
    "# 1- CRIE UMA NOVA COLUNA CHAMADA \"HOUSE_AGE\"\n",
    "    SE O VALOR DA COLUNA DATE FOR <(MAIOR) QUE 2014-01-01 -> \"NEW_HOUSE\"\n",
    "    SE O VALOR DA COLUNA DATE FOR >(MENOR) QUE 2014-01-01 -> \"OLD_HOUSE\"."
   ]
  },
  {
   "cell_type": "code",
   "execution_count": 50,
   "id": "2d7b85d6",
   "metadata": {},
   "outputs": [],
   "source": [
    "#data ['house_age'] = 'standard' # criando a nova coluna\n",
    "#data['date'] = pd.to_datetime(data['date']) # transformando a coluna 'date' no formato de data\n",
    "#data.loc[data['date'] > '2014-01-01', 'house_age'] = 'new_house' # classificando as datas\n",
    "#data.loc[data['date'] < '2014-01-01', 'house_age'] = 'old_house' # classificando as datas\n",
    "#print(data[['id','price','date','house_age']].head()) # validando se a criação + classificação deu certo\n",
    "#report = data[['id','price','date','house_age']].sort_values('date', ascending=True) # filtrando colunas desejadas para exportar para .csv\n",
    "#print(report)\n",
    "#report.to_csv('D:\\\\repositorio\\\\datasets\\\\report_house_age.csv') # exportando para excel (.csv) as informações filtradas."
   ]
  },
  {
   "cell_type": "code",
   "execution_count": 51,
   "id": "950329b9",
   "metadata": {
    "scrolled": true
   },
   "outputs": [],
   "source": [
    "data['date'] = pd.to_datetime(data['date'], format='%Y-%m-%d')\n",
    "data['house_age'] = data['date'].apply( lambda x: 'new_house' if x > pd.to_datetime ('2014-01-01', format= '%Y-%m-%d') else 'old_house')"
   ]
  },
  {
   "cell_type": "code",
   "execution_count": 52,
   "id": "d97f39ce",
   "metadata": {},
   "outputs": [
    {
     "name": "stdout",
     "output_type": "stream",
     "text": [
      "               id      price       date  house_age\n",
      "16768  5561000190   437500.0 2014-05-02  new_house\n",
      "9596    472000620   790000.0 2014-05-02  new_house\n",
      "9587   1024069009   675000.0 2014-05-02  new_house\n",
      "20602  7853361370   555000.0 2014-05-02  new_house\n",
      "11577  5056500260   440000.0 2014-05-02  new_house\n",
      "...           ...        ...        ...        ...\n",
      "7898   1422700040   183000.0 2015-05-14  new_house\n",
      "928    8730000270   359000.0 2015-05-14  new_house\n",
      "5637   7923600250   450000.0 2015-05-15  new_house\n",
      "13053  5101400871   445500.0 2015-05-24  new_house\n",
      "16594  9106000005  1310000.0 2015-05-27  new_house\n",
      "\n",
      "[21613 rows x 4 columns]\n"
     ]
    }
   ],
   "source": [
    "report = data[['id','price','date','house_age']]\n",
    "print(report.sort_values('date', ascending = True))"
   ]
  },
  {
   "cell_type": "markdown",
   "id": "0b6bf225",
   "metadata": {},
   "source": [
    "# 2- CRIE UMA NOVA COLUNA CHAMADA: 'DORMITORY_TYPE\" \n",
    "    SE O VALOR DA COLUNA 'BEDROOMS' FOR < (MENOR) QUE 1 -> 'ROOM'\n",
    "    SE O VALOR DA COLUNA 'BEDROOMS' FOR == (IGUAL) A 1 -> 'STUDIO'\n",
    "    SE O VALOR DA COLUNA 'BEDROOMS' FOR == (IGUAL) A 2 -> 'APARTAMENT'\n",
    "    SE O VALOR DA COLUNA 'BEDROOMS' FOR MAIOR > (MAIOR) QUE 2 -> 'HOUSE'\n"
   ]
  },
  {
   "cell_type": "code",
   "execution_count": 53,
   "id": "5210086d",
   "metadata": {},
   "outputs": [],
   "source": [
    "#data['dormitory_type'] = 'standard'\n",
    "#data.loc[data['bedrooms'] < 1, 'dormitory_type'] = 'room'\n",
    "#data.loc[data['bedrooms'] == 1, 'dormitory_type'] = 'studio'\n",
    "#data.loc[data['bedrooms'] == 2, 'dormitory_type'] = 'apartment'\n",
    "#data.loc[data['bedrooms'] > 2, 'dormitory_type'] = 'house'\n",
    "#print(data[['id','price','bedrooms','dormitory_type']].head())\n",
    "#report = data[['id','price','bedrooms','dormitory_type']].sort_values('bedrooms', ascending=True)\n",
    "#print(report)\n",
    "#report.to_csv('D:\\\\repositorio\\\\datasets\\\\report_dormitory_type.csv')"
   ]
  },
  {
   "cell_type": "code",
   "execution_count": 54,
   "id": "076424b6",
   "metadata": {},
   "outputs": [],
   "source": [
    "data['dormitory_type'] = data['bedrooms'].apply( lambda x: 'studio' if x == 1 else 'apartment' if x == 2 else \n",
    "                                                    'house' if x > 2 else 'NA')"
   ]
  },
  {
   "cell_type": "code",
   "execution_count": 55,
   "id": "95bba81f",
   "metadata": {
    "scrolled": true
   },
   "outputs": [
    {
     "name": "stdout",
     "output_type": "stream",
     "text": [
      "           id     price  bedrooms dormitory_type\n",
      "0  7129300520  221900.0         3          house\n",
      "1  6414100192  538000.0         3          house\n",
      "2  5631500400  180000.0         2      apartment\n",
      "3  2487200875  604000.0         4          house\n",
      "4  1954400510  510000.0         3          house\n"
     ]
    }
   ],
   "source": [
    "print(data[['id','price','bedrooms','dormitory_type']].head())"
   ]
  },
  {
   "cell_type": "code",
   "execution_count": null,
   "id": "ab61ecfa",
   "metadata": {},
   "outputs": [],
   "source": []
  },
  {
   "cell_type": "markdown",
   "id": "e5c83518",
   "metadata": {},
   "source": [
    "# 3- CRIE UMA NOVA COLUNA CHAMADO ' CONDITION_TYPE'\n",
    "    SE O VAOR DA COLUNA 'CONDITION' FOR MENOR OU IGUAL A 2 -> 'BAD'\n",
    "    SE O VALOR DA COLUNA 'CONDITION' FOR IGUAL A 3 OU 4 -> 'REGULAR'\n",
    "    SE O VALOR DA COLUNA 'CONDITION' FOR IGUAL A 5 -> 'GOOD'"
   ]
  },
  {
   "cell_type": "code",
   "execution_count": 56,
   "id": "3d3dd69c",
   "metadata": {},
   "outputs": [],
   "source": [
    "#data['condition_type'] = 'standard'\n",
    "#data.loc[data['condition'] <= 2, 'condition_type'] = 'bad'\n",
    "#data.loc[data['condition'] == 3, 'condition_type'] = 'regular'\n",
    "#data.loc[data['condition'] == 4, 'condition_type'] = 'regular'\n",
    "#data.loc[data['condition'] == 5, 'condition_type'] = 'good'\n",
    "#print(data[['id','condition','condition_type']].head)\n",
    "#print(data.loc[data['condition'] == 4, ['id','condition','condition_type']].shape) # print para teste de condição\n",
    "#print(data.loc[data['condition'] == 3, ['id','condition','condition_type']].shape) # print para teste de condição\n",
    "#report = data[['id','price','condition','condition_type']]\n",
    "#print(report)\n",
    "#report.to_csv('D:\\\\repositorio\\\\datasets\\\\condition_type.csv')"
   ]
  },
  {
   "cell_type": "code",
   "execution_count": 57,
   "id": "9c051c13",
   "metadata": {},
   "outputs": [],
   "source": [
    "data['condition_type'] = data['condition'].apply( lambda x: 'bad' if x <= 2 else\n",
    "                                                            'regular' if (x == 3) | (x == 4) else 'good' ) "
   ]
  },
  {
   "cell_type": "code",
   "execution_count": 58,
   "id": "a91635f1",
   "metadata": {},
   "outputs": [
    {
     "name": "stdout",
     "output_type": "stream",
     "text": [
      "           id     price  condition condition_type\n",
      "0  7129300520  221900.0          3        regular\n",
      "1  6414100192  538000.0          3        regular\n",
      "2  5631500400  180000.0          3        regular\n",
      "3  2487200875  604000.0          5           good\n",
      "4  1954400510  510000.0          3        regular\n"
     ]
    }
   ],
   "source": [
    "print(data[['id','price','condition','condition_type']].head())"
   ]
  },
  {
   "cell_type": "markdown",
   "id": "d02d652b",
   "metadata": {},
   "source": [
    "# 4- MODIFIQUE O TIPO DA COLUNA 'CONDITION' PARA STRING:"
   ]
  },
  {
   "cell_type": "code",
   "execution_count": 59,
   "id": "10bc79c9",
   "metadata": {},
   "outputs": [
    {
     "name": "stdout",
     "output_type": "stream",
     "text": [
      "id                         int64\n",
      "date              datetime64[ns]\n",
      "price                    float64\n",
      "bedrooms                   int64\n",
      "bathrooms                float64\n",
      "sqft_living                int64\n",
      "sqft_lot                   int64\n",
      "floors                   float64\n",
      "waterfront                 int64\n",
      "view                       int64\n",
      "condition                  int64\n",
      "grade                      int64\n",
      "sqft_above                 int64\n",
      "sqft_basement              int64\n",
      "yr_built                   int64\n",
      "yr_renovated               int64\n",
      "zipcode                    int64\n",
      "lat                      float64\n",
      "long                     float64\n",
      "sqft_living15              int64\n",
      "sqft_lot15                 int64\n",
      "house_age                 object\n",
      "dormitory_type            object\n",
      "condition_type            object\n",
      "dtype: object\n",
      "id                         int64\n",
      "date              datetime64[ns]\n",
      "price                    float64\n",
      "bedrooms                   int64\n",
      "bathrooms                float64\n",
      "sqft_living                int64\n",
      "sqft_lot                   int64\n",
      "floors                   float64\n",
      "waterfront                 int64\n",
      "view                       int64\n",
      "condition                 object\n",
      "grade                      int64\n",
      "sqft_above                 int64\n",
      "sqft_basement              int64\n",
      "yr_built                   int64\n",
      "yr_renovated               int64\n",
      "zipcode                    int64\n",
      "lat                      float64\n",
      "long                     float64\n",
      "sqft_living15              int64\n",
      "sqft_lot15                 int64\n",
      "house_age                 object\n",
      "dormitory_type            object\n",
      "condition_type            object\n",
      "dtype: object\n"
     ]
    }
   ],
   "source": [
    "print(data.dtypes)\n",
    "data ['condition'] = data['condition'].astype(str)\n",
    "print(data.dtypes)"
   ]
  },
  {
   "cell_type": "markdown",
   "id": "4d290373",
   "metadata": {},
   "source": [
    "# 5- DELETE AS COLUNAS 'SQFT_LIVING15' E 'SQFT_LOT15'"
   ]
  },
  {
   "cell_type": "code",
   "execution_count": 60,
   "id": "4779a0ba",
   "metadata": {},
   "outputs": [],
   "source": [
    "#print(data.columns)\n",
    "#remove = ['sqft_living15','sqft_lot15']\n",
    "#data = data.drop(remove, axis=1)\n",
    "#print(data.columns)"
   ]
  },
  {
   "cell_type": "code",
   "execution_count": 61,
   "id": "b019ac43",
   "metadata": {},
   "outputs": [],
   "source": [
    "data = data.drop(['sqft_living15','sqft_lot15'], axis=1)"
   ]
  },
  {
   "cell_type": "code",
   "execution_count": 62,
   "id": "b5c64db0",
   "metadata": {},
   "outputs": [
    {
     "data": {
      "text/plain": [
       "Index(['id', 'date', 'price', 'bedrooms', 'bathrooms', 'sqft_living',\n",
       "       'sqft_lot', 'floors', 'waterfront', 'view', 'condition', 'grade',\n",
       "       'sqft_above', 'sqft_basement', 'yr_built', 'yr_renovated', 'zipcode',\n",
       "       'lat', 'long', 'house_age', 'dormitory_type', 'condition_type'],\n",
       "      dtype='object')"
      ]
     },
     "execution_count": 62,
     "metadata": {},
     "output_type": "execute_result"
    }
   ],
   "source": [
    "data.columns"
   ]
  },
  {
   "cell_type": "markdown",
   "id": "6444b6c7",
   "metadata": {},
   "source": [
    "# 6- MODIFIQUE O TIPO DA COLUNA 'YR_BUILT' PARA 'DATE'"
   ]
  },
  {
   "cell_type": "code",
   "execution_count": 63,
   "id": "3a202d20",
   "metadata": {},
   "outputs": [],
   "source": [
    "#data ['yr_built'] = pd.to_datetime(data['yr_built'])\n",
    "#print(data[['yr_built']].dtypes)"
   ]
  },
  {
   "cell_type": "code",
   "execution_count": 64,
   "id": "d086f4b3",
   "metadata": {},
   "outputs": [
    {
     "data": {
      "text/plain": [
       "0       1955-01-01\n",
       "1       1951-01-01\n",
       "2       1933-01-01\n",
       "3       1965-01-01\n",
       "4       1987-01-01\n",
       "           ...    \n",
       "21608   2009-01-01\n",
       "21609   2014-01-01\n",
       "21610   2009-01-01\n",
       "21611   2004-01-01\n",
       "21612   2008-01-01\n",
       "Name: yr_built, Length: 21613, dtype: datetime64[ns]"
      ]
     },
     "execution_count": 64,
     "metadata": {},
     "output_type": "execute_result"
    }
   ],
   "source": [
    "pd.to_datetime(data['yr_built'], format='%Y')"
   ]
  },
  {
   "cell_type": "code",
   "execution_count": 65,
   "id": "812c1b2e",
   "metadata": {},
   "outputs": [
    {
     "data": {
      "text/plain": [
       "0        1955\n",
       "1        1951\n",
       "2        1933\n",
       "3        1965\n",
       "4        1987\n",
       "         ... \n",
       "21608    2009\n",
       "21609    2014\n",
       "21610    2009\n",
       "21611    2004\n",
       "21612    2008\n",
       "Name: yr_built, Length: 21613, dtype: int64"
      ]
     },
     "execution_count": 65,
     "metadata": {},
     "output_type": "execute_result"
    }
   ],
   "source": [
    "pd.to_datetime(data['yr_built'], format='%Y').dt.year"
   ]
  },
  {
   "cell_type": "markdown",
   "id": "eb2fd993",
   "metadata": {},
   "source": [
    "# 7- MODIFIQUE O TIPO DA COLUNA 'YR_RENOVATED' PARA 'DATE'"
   ]
  },
  {
   "cell_type": "code",
   "execution_count": 66,
   "id": "9b771411",
   "metadata": {},
   "outputs": [],
   "source": [
    "#data ['yr_renovated'] = pd.to_datetime(data['yr_renovated'])\n",
    "#print(data[['yr_renovated']].dtypes)"
   ]
  },
  {
   "cell_type": "code",
   "execution_count": 67,
   "id": "d7e8244b",
   "metadata": {},
   "outputs": [],
   "source": [
    "data['yr_renovated'] = data['yr_renovated'].apply(lambda x: pd.to_datetime( '1900-01-01', format='%Y-%m-%d') if x == 0 \n",
    "                                                            else pd.to_datetime(x, format='%Y'))"
   ]
  },
  {
   "cell_type": "code",
   "execution_count": 68,
   "id": "638400ca",
   "metadata": {},
   "outputs": [
    {
     "name": "stdout",
     "output_type": "stream",
     "text": [
      "           id yr_renovated\n",
      "0  7129300520   1900-01-01\n",
      "1  6414100192   1991-01-01\n",
      "2  5631500400   1900-01-01\n",
      "3  2487200875   1900-01-01\n",
      "4  1954400510   1900-01-01\n"
     ]
    }
   ],
   "source": [
    "print(data[['id','yr_renovated']].head())"
   ]
  },
  {
   "cell_type": "markdown",
   "id": "25ed3630",
   "metadata": {},
   "source": [
    "# 8- QUAL A DATA MAIS ANTIGA DE CONSTRUÇÃO DE UM IMOVEL?"
   ]
  },
  {
   "cell_type": "code",
   "execution_count": 69,
   "id": "77c60ba0",
   "metadata": {},
   "outputs": [],
   "source": [
    "#data['yr_built'] = pd.to_datetime(data['yr_built'], format='%Y')\n",
    "#report_construction = data[['id', 'price', 'yr_built']].sort_values('yr_built', ascending=True)\n",
    "#print(report_construction)"
   ]
  },
  {
   "cell_type": "code",
   "execution_count": 70,
   "id": "492aa477",
   "metadata": {},
   "outputs": [
    {
     "data": {
      "text/plain": [
       "1900"
      ]
     },
     "execution_count": 70,
     "metadata": {},
     "output_type": "execute_result"
    }
   ],
   "source": [
    "data['yr_built'].min()"
   ]
  },
  {
   "cell_type": "markdown",
   "id": "2a53973b",
   "metadata": {},
   "source": [
    "# 9- QUAL A DATA MAIS ANTIGA DE RENOVAÇÃO DE UM IMOVEL?"
   ]
  },
  {
   "cell_type": "code",
   "execution_count": 71,
   "id": "25af840b",
   "metadata": {},
   "outputs": [],
   "source": [
    "#data['yr_renovated'] = pd.to_datetime(data['yr_renovated'])\n",
    "#report_renovation = data[['id', 'price', 'yr_built', 'yr_renovated']].sort_values('yr_renovated', ascending=True)\n",
    "#print(report_renovation)"
   ]
  },
  {
   "cell_type": "code",
   "execution_count": 72,
   "id": "5dc5d0c2",
   "metadata": {},
   "outputs": [
    {
     "data": {
      "text/plain": [
       "Timestamp('1934-01-01 00:00:00')"
      ]
     },
     "execution_count": 72,
     "metadata": {},
     "output_type": "execute_result"
    }
   ],
   "source": [
    "data.loc[data['yr_renovated'] > pd.to_datetime ('1900-01-01', format='%Y-%m-%d' ), 'yr_renovated'].min()"
   ]
  },
  {
   "cell_type": "markdown",
   "id": "1c034633",
   "metadata": {},
   "source": [
    "# 10- QUANTOS IMOVEIS TEM 2 ANDARES?"
   ]
  },
  {
   "cell_type": "code",
   "execution_count": 73,
   "id": "e26397ef",
   "metadata": {},
   "outputs": [
    {
     "data": {
      "text/plain": [
       "8241"
      ]
     },
     "execution_count": 73,
     "metadata": {},
     "output_type": "execute_result"
    }
   ],
   "source": [
    "data.loc[data['floors'] == 2, 'id'].size"
   ]
  },
  {
   "cell_type": "markdown",
   "id": "01c92b14",
   "metadata": {},
   "source": [
    "# 11- QUANTOS IMOVEIS ESTÃO COM CONDIÇÃO IGUAL A REGULAR?"
   ]
  },
  {
   "cell_type": "code",
   "execution_count": 74,
   "id": "e8a68b12",
   "metadata": {},
   "outputs": [
    {
     "data": {
      "text/plain": [
       "19710"
      ]
     },
     "execution_count": 74,
     "metadata": {},
     "output_type": "execute_result"
    }
   ],
   "source": [
    "data.loc[data['condition_type'] == 'regular', 'id'].size"
   ]
  },
  {
   "cell_type": "markdown",
   "id": "ab9f3e00",
   "metadata": {},
   "source": [
    "# 12- QUANTOS IMOVEIS ESTAO COM A CONDIÇÃO IGUA A 'BAD'' E POSSUEM 'VISTA PARA AGUA'?"
   ]
  },
  {
   "cell_type": "code",
   "execution_count": 75,
   "id": "571db4fb",
   "metadata": {},
   "outputs": [
    {
     "data": {
      "text/plain": [
       "2"
      ]
     },
     "execution_count": 75,
     "metadata": {},
     "output_type": "execute_result"
    }
   ],
   "source": [
    "data.loc[(data['condition_type'] == 'bad') & (data['waterfront'] == 1), 'id'].size"
   ]
  },
  {
   "cell_type": "markdown",
   "id": "2a0195ee",
   "metadata": {},
   "source": [
    "# 13- QUANTOS IMOVEIS ESTÃO COM A CONDIÇÃO IGUALA  'GOOD' E SÃO 'NEW_HOUSE'?"
   ]
  },
  {
   "cell_type": "code",
   "execution_count": 76,
   "id": "050fc5e7",
   "metadata": {},
   "outputs": [
    {
     "data": {
      "text/plain": [
       "1701"
      ]
     },
     "execution_count": 76,
     "metadata": {},
     "output_type": "execute_result"
    }
   ],
   "source": [
    "data.loc[(data['condition_type'] == 'good') & (data['house_age'] == 'new_house'), 'id'].size"
   ]
  },
  {
   "cell_type": "markdown",
   "id": "c83c8ede",
   "metadata": {},
   "source": [
    "# 14- QUAL O VALOR DO IMOVEL MAIS CARO DO TIPO 'STUDIO'?"
   ]
  },
  {
   "cell_type": "code",
   "execution_count": 77,
   "id": "463199cd",
   "metadata": {},
   "outputs": [],
   "source": [
    "#data.loc[data['dormitory_type'] == 'studio'].sort_values('price', ascending = False)"
   ]
  },
  {
   "cell_type": "code",
   "execution_count": 78,
   "id": "e367d93f",
   "metadata": {},
   "outputs": [
    {
     "data": {
      "text/plain": [
       "1247000.0"
      ]
     },
     "execution_count": 78,
     "metadata": {},
     "output_type": "execute_result"
    }
   ],
   "source": [
    "data.loc[data['dormitory_type'] == 'studio','price'].max()"
   ]
  },
  {
   "cell_type": "markdown",
   "id": "a9a874b8",
   "metadata": {},
   "source": [
    "# 15- QUANTOS IMOVEIS DO TIPO 'APARTAMENT' FORAM REFORMADOS EM 2015?"
   ]
  },
  {
   "cell_type": "code",
   "execution_count": 79,
   "id": "c2398e30",
   "metadata": {},
   "outputs": [
    {
     "data": {
      "text/plain": [
       "0"
      ]
     },
     "execution_count": 79,
     "metadata": {},
     "output_type": "execute_result"
    }
   ],
   "source": [
    "data.loc[(data['dormitory_type'] == 'apartment') &\n",
    "         (data['yr_renovated'] == pd.to_datetime('2015-01-01', format='%Y-%m-%d')), 'id'].size"
   ]
  },
  {
   "cell_type": "markdown",
   "id": "7b7a7df7",
   "metadata": {},
   "source": [
    "# 16- QUAL O MAIOR NUMERO DE QUARTOS QUE UM IMOVEL DO TIPO 'HOUSE' POSSUI?"
   ]
  },
  {
   "cell_type": "code",
   "execution_count": 80,
   "id": "1371ee0c",
   "metadata": {},
   "outputs": [
    {
     "data": {
      "text/plain": [
       "33"
      ]
     },
     "execution_count": 80,
     "metadata": {},
     "output_type": "execute_result"
    }
   ],
   "source": [
    "data.loc[data['dormitory_type'] == 'house', 'bedrooms'].max()"
   ]
  },
  {
   "cell_type": "markdown",
   "id": "9ffc2e2d",
   "metadata": {},
   "source": [
    "# 17- QUANTOS IMOVEIS 'NEW_HOUSE' FORAM REFORMADOS EM 2014?"
   ]
  },
  {
   "cell_type": "code",
   "execution_count": 81,
   "id": "e351a851",
   "metadata": {},
   "outputs": [
    {
     "data": {
      "text/plain": [
       "91"
      ]
     },
     "execution_count": 81,
     "metadata": {},
     "output_type": "execute_result"
    }
   ],
   "source": [
    "data.loc[(data['house_age'] == 'new_house' ) & \n",
    "         (data['yr_renovated'] == pd.to_datetime('2014-01-01', format='%Y-%m-%d')), 'id'].size"
   ]
  },
  {
   "cell_type": "markdown",
   "id": "d77d767c",
   "metadata": {},
   "source": [
    "# 18- SELECIONE AS COLUNAS: 'ID','DATE','PRICE', 'FLOORS', 'ZIPCODE' PELO MÉTODO:\n",
    "\tDIRETO PELO NOME DAS COLUNAS\n",
    "\tPELO INDICES\n",
    "\tPELOS INDICES DAS LINHAS E NOME DAS COLUNAS\n",
    "\tINDICES BOOLEANOS."
   ]
  },
  {
   "cell_type": "code",
   "execution_count": 82,
   "id": "fb0fa6d1",
   "metadata": {},
   "outputs": [
    {
     "data": {
      "text/html": [
       "<div>\n",
       "<style scoped>\n",
       "    .dataframe tbody tr th:only-of-type {\n",
       "        vertical-align: middle;\n",
       "    }\n",
       "\n",
       "    .dataframe tbody tr th {\n",
       "        vertical-align: top;\n",
       "    }\n",
       "\n",
       "    .dataframe thead th {\n",
       "        text-align: right;\n",
       "    }\n",
       "</style>\n",
       "<table border=\"1\" class=\"dataframe\">\n",
       "  <thead>\n",
       "    <tr style=\"text-align: right;\">\n",
       "      <th></th>\n",
       "      <th>id</th>\n",
       "      <th>date</th>\n",
       "      <th>price</th>\n",
       "      <th>floors</th>\n",
       "      <th>zipcode</th>\n",
       "    </tr>\n",
       "  </thead>\n",
       "  <tbody>\n",
       "    <tr>\n",
       "      <th>0</th>\n",
       "      <td>7129300520</td>\n",
       "      <td>2014-10-13</td>\n",
       "      <td>221900.0</td>\n",
       "      <td>1.0</td>\n",
       "      <td>98178</td>\n",
       "    </tr>\n",
       "    <tr>\n",
       "      <th>1</th>\n",
       "      <td>6414100192</td>\n",
       "      <td>2014-12-09</td>\n",
       "      <td>538000.0</td>\n",
       "      <td>2.0</td>\n",
       "      <td>98125</td>\n",
       "    </tr>\n",
       "    <tr>\n",
       "      <th>2</th>\n",
       "      <td>5631500400</td>\n",
       "      <td>2015-02-25</td>\n",
       "      <td>180000.0</td>\n",
       "      <td>1.0</td>\n",
       "      <td>98028</td>\n",
       "    </tr>\n",
       "    <tr>\n",
       "      <th>3</th>\n",
       "      <td>2487200875</td>\n",
       "      <td>2014-12-09</td>\n",
       "      <td>604000.0</td>\n",
       "      <td>1.0</td>\n",
       "      <td>98136</td>\n",
       "    </tr>\n",
       "    <tr>\n",
       "      <th>4</th>\n",
       "      <td>1954400510</td>\n",
       "      <td>2015-02-18</td>\n",
       "      <td>510000.0</td>\n",
       "      <td>1.0</td>\n",
       "      <td>98074</td>\n",
       "    </tr>\n",
       "    <tr>\n",
       "      <th>...</th>\n",
       "      <td>...</td>\n",
       "      <td>...</td>\n",
       "      <td>...</td>\n",
       "      <td>...</td>\n",
       "      <td>...</td>\n",
       "    </tr>\n",
       "    <tr>\n",
       "      <th>21608</th>\n",
       "      <td>263000018</td>\n",
       "      <td>2014-05-21</td>\n",
       "      <td>360000.0</td>\n",
       "      <td>3.0</td>\n",
       "      <td>98103</td>\n",
       "    </tr>\n",
       "    <tr>\n",
       "      <th>21609</th>\n",
       "      <td>6600060120</td>\n",
       "      <td>2015-02-23</td>\n",
       "      <td>400000.0</td>\n",
       "      <td>2.0</td>\n",
       "      <td>98146</td>\n",
       "    </tr>\n",
       "    <tr>\n",
       "      <th>21610</th>\n",
       "      <td>1523300141</td>\n",
       "      <td>2014-06-23</td>\n",
       "      <td>402101.0</td>\n",
       "      <td>2.0</td>\n",
       "      <td>98144</td>\n",
       "    </tr>\n",
       "    <tr>\n",
       "      <th>21611</th>\n",
       "      <td>291310100</td>\n",
       "      <td>2015-01-16</td>\n",
       "      <td>400000.0</td>\n",
       "      <td>2.0</td>\n",
       "      <td>98027</td>\n",
       "    </tr>\n",
       "    <tr>\n",
       "      <th>21612</th>\n",
       "      <td>1523300157</td>\n",
       "      <td>2014-10-15</td>\n",
       "      <td>325000.0</td>\n",
       "      <td>2.0</td>\n",
       "      <td>98144</td>\n",
       "    </tr>\n",
       "  </tbody>\n",
       "</table>\n",
       "<p>21613 rows × 5 columns</p>\n",
       "</div>"
      ],
      "text/plain": [
       "               id       date     price  floors  zipcode\n",
       "0      7129300520 2014-10-13  221900.0     1.0    98178\n",
       "1      6414100192 2014-12-09  538000.0     2.0    98125\n",
       "2      5631500400 2015-02-25  180000.0     1.0    98028\n",
       "3      2487200875 2014-12-09  604000.0     1.0    98136\n",
       "4      1954400510 2015-02-18  510000.0     1.0    98074\n",
       "...           ...        ...       ...     ...      ...\n",
       "21608   263000018 2014-05-21  360000.0     3.0    98103\n",
       "21609  6600060120 2015-02-23  400000.0     2.0    98146\n",
       "21610  1523300141 2014-06-23  402101.0     2.0    98144\n",
       "21611   291310100 2015-01-16  400000.0     2.0    98027\n",
       "21612  1523300157 2014-10-15  325000.0     2.0    98144\n",
       "\n",
       "[21613 rows x 5 columns]"
      ]
     },
     "execution_count": 82,
     "metadata": {},
     "output_type": "execute_result"
    }
   ],
   "source": [
    "#Metodo n1:\n",
    "data[['id','date','price', 'floors', 'zipcode']]"
   ]
  },
  {
   "cell_type": "code",
   "execution_count": 83,
   "id": "f117dbd7",
   "metadata": {},
   "outputs": [
    {
     "data": {
      "text/html": [
       "<div>\n",
       "<style scoped>\n",
       "    .dataframe tbody tr th:only-of-type {\n",
       "        vertical-align: middle;\n",
       "    }\n",
       "\n",
       "    .dataframe tbody tr th {\n",
       "        vertical-align: top;\n",
       "    }\n",
       "\n",
       "    .dataframe thead th {\n",
       "        text-align: right;\n",
       "    }\n",
       "</style>\n",
       "<table border=\"1\" class=\"dataframe\">\n",
       "  <thead>\n",
       "    <tr style=\"text-align: right;\">\n",
       "      <th></th>\n",
       "      <th>id</th>\n",
       "      <th>date</th>\n",
       "      <th>price</th>\n",
       "      <th>floors</th>\n",
       "      <th>zipcode</th>\n",
       "    </tr>\n",
       "  </thead>\n",
       "  <tbody>\n",
       "    <tr>\n",
       "      <th>0</th>\n",
       "      <td>7129300520</td>\n",
       "      <td>2014-10-13</td>\n",
       "      <td>221900.0</td>\n",
       "      <td>1.0</td>\n",
       "      <td>98178</td>\n",
       "    </tr>\n",
       "    <tr>\n",
       "      <th>1</th>\n",
       "      <td>6414100192</td>\n",
       "      <td>2014-12-09</td>\n",
       "      <td>538000.0</td>\n",
       "      <td>2.0</td>\n",
       "      <td>98125</td>\n",
       "    </tr>\n",
       "    <tr>\n",
       "      <th>2</th>\n",
       "      <td>5631500400</td>\n",
       "      <td>2015-02-25</td>\n",
       "      <td>180000.0</td>\n",
       "      <td>1.0</td>\n",
       "      <td>98028</td>\n",
       "    </tr>\n",
       "    <tr>\n",
       "      <th>3</th>\n",
       "      <td>2487200875</td>\n",
       "      <td>2014-12-09</td>\n",
       "      <td>604000.0</td>\n",
       "      <td>1.0</td>\n",
       "      <td>98136</td>\n",
       "    </tr>\n",
       "    <tr>\n",
       "      <th>4</th>\n",
       "      <td>1954400510</td>\n",
       "      <td>2015-02-18</td>\n",
       "      <td>510000.0</td>\n",
       "      <td>1.0</td>\n",
       "      <td>98074</td>\n",
       "    </tr>\n",
       "    <tr>\n",
       "      <th>...</th>\n",
       "      <td>...</td>\n",
       "      <td>...</td>\n",
       "      <td>...</td>\n",
       "      <td>...</td>\n",
       "      <td>...</td>\n",
       "    </tr>\n",
       "    <tr>\n",
       "      <th>21608</th>\n",
       "      <td>263000018</td>\n",
       "      <td>2014-05-21</td>\n",
       "      <td>360000.0</td>\n",
       "      <td>3.0</td>\n",
       "      <td>98103</td>\n",
       "    </tr>\n",
       "    <tr>\n",
       "      <th>21609</th>\n",
       "      <td>6600060120</td>\n",
       "      <td>2015-02-23</td>\n",
       "      <td>400000.0</td>\n",
       "      <td>2.0</td>\n",
       "      <td>98146</td>\n",
       "    </tr>\n",
       "    <tr>\n",
       "      <th>21610</th>\n",
       "      <td>1523300141</td>\n",
       "      <td>2014-06-23</td>\n",
       "      <td>402101.0</td>\n",
       "      <td>2.0</td>\n",
       "      <td>98144</td>\n",
       "    </tr>\n",
       "    <tr>\n",
       "      <th>21611</th>\n",
       "      <td>291310100</td>\n",
       "      <td>2015-01-16</td>\n",
       "      <td>400000.0</td>\n",
       "      <td>2.0</td>\n",
       "      <td>98027</td>\n",
       "    </tr>\n",
       "    <tr>\n",
       "      <th>21612</th>\n",
       "      <td>1523300157</td>\n",
       "      <td>2014-10-15</td>\n",
       "      <td>325000.0</td>\n",
       "      <td>2.0</td>\n",
       "      <td>98144</td>\n",
       "    </tr>\n",
       "  </tbody>\n",
       "</table>\n",
       "<p>21613 rows × 5 columns</p>\n",
       "</div>"
      ],
      "text/plain": [
       "               id       date     price  floors  zipcode\n",
       "0      7129300520 2014-10-13  221900.0     1.0    98178\n",
       "1      6414100192 2014-12-09  538000.0     2.0    98125\n",
       "2      5631500400 2015-02-25  180000.0     1.0    98028\n",
       "3      2487200875 2014-12-09  604000.0     1.0    98136\n",
       "4      1954400510 2015-02-18  510000.0     1.0    98074\n",
       "...           ...        ...       ...     ...      ...\n",
       "21608   263000018 2014-05-21  360000.0     3.0    98103\n",
       "21609  6600060120 2015-02-23  400000.0     2.0    98146\n",
       "21610  1523300141 2014-06-23  402101.0     2.0    98144\n",
       "21611   291310100 2015-01-16  400000.0     2.0    98027\n",
       "21612  1523300157 2014-10-15  325000.0     2.0    98144\n",
       "\n",
       "[21613 rows x 5 columns]"
      ]
     },
     "execution_count": 83,
     "metadata": {},
     "output_type": "execute_result"
    }
   ],
   "source": [
    "#Metodo n2:\n",
    "data.columns\n",
    "data.iloc[:,[0,1,2,7,16]]"
   ]
  },
  {
   "cell_type": "code",
   "execution_count": 84,
   "id": "35ccc895",
   "metadata": {},
   "outputs": [
    {
     "data": {
      "text/html": [
       "<div>\n",
       "<style scoped>\n",
       "    .dataframe tbody tr th:only-of-type {\n",
       "        vertical-align: middle;\n",
       "    }\n",
       "\n",
       "    .dataframe tbody tr th {\n",
       "        vertical-align: top;\n",
       "    }\n",
       "\n",
       "    .dataframe thead th {\n",
       "        text-align: right;\n",
       "    }\n",
       "</style>\n",
       "<table border=\"1\" class=\"dataframe\">\n",
       "  <thead>\n",
       "    <tr style=\"text-align: right;\">\n",
       "      <th></th>\n",
       "      <th>id</th>\n",
       "      <th>date</th>\n",
       "      <th>price</th>\n",
       "      <th>bedrooms</th>\n",
       "    </tr>\n",
       "  </thead>\n",
       "  <tbody>\n",
       "    <tr>\n",
       "      <th>0</th>\n",
       "      <td>7129300520</td>\n",
       "      <td>2014-10-13</td>\n",
       "      <td>221900.0</td>\n",
       "      <td>3</td>\n",
       "    </tr>\n",
       "    <tr>\n",
       "      <th>1</th>\n",
       "      <td>6414100192</td>\n",
       "      <td>2014-12-09</td>\n",
       "      <td>538000.0</td>\n",
       "      <td>3</td>\n",
       "    </tr>\n",
       "    <tr>\n",
       "      <th>2</th>\n",
       "      <td>5631500400</td>\n",
       "      <td>2015-02-25</td>\n",
       "      <td>180000.0</td>\n",
       "      <td>2</td>\n",
       "    </tr>\n",
       "    <tr>\n",
       "      <th>3</th>\n",
       "      <td>2487200875</td>\n",
       "      <td>2014-12-09</td>\n",
       "      <td>604000.0</td>\n",
       "      <td>4</td>\n",
       "    </tr>\n",
       "    <tr>\n",
       "      <th>4</th>\n",
       "      <td>1954400510</td>\n",
       "      <td>2015-02-18</td>\n",
       "      <td>510000.0</td>\n",
       "      <td>3</td>\n",
       "    </tr>\n",
       "    <tr>\n",
       "      <th>5</th>\n",
       "      <td>7237550310</td>\n",
       "      <td>2014-05-12</td>\n",
       "      <td>1225000.0</td>\n",
       "      <td>4</td>\n",
       "    </tr>\n",
       "    <tr>\n",
       "      <th>6</th>\n",
       "      <td>1321400060</td>\n",
       "      <td>2014-06-27</td>\n",
       "      <td>257500.0</td>\n",
       "      <td>3</td>\n",
       "    </tr>\n",
       "    <tr>\n",
       "      <th>7</th>\n",
       "      <td>2008000270</td>\n",
       "      <td>2015-01-15</td>\n",
       "      <td>291850.0</td>\n",
       "      <td>3</td>\n",
       "    </tr>\n",
       "    <tr>\n",
       "      <th>8</th>\n",
       "      <td>2414600126</td>\n",
       "      <td>2015-04-15</td>\n",
       "      <td>229500.0</td>\n",
       "      <td>3</td>\n",
       "    </tr>\n",
       "    <tr>\n",
       "      <th>9</th>\n",
       "      <td>3793500160</td>\n",
       "      <td>2015-03-12</td>\n",
       "      <td>323000.0</td>\n",
       "      <td>3</td>\n",
       "    </tr>\n",
       "  </tbody>\n",
       "</table>\n",
       "</div>"
      ],
      "text/plain": [
       "           id       date      price  bedrooms\n",
       "0  7129300520 2014-10-13   221900.0         3\n",
       "1  6414100192 2014-12-09   538000.0         3\n",
       "2  5631500400 2015-02-25   180000.0         2\n",
       "3  2487200875 2014-12-09   604000.0         4\n",
       "4  1954400510 2015-02-18   510000.0         3\n",
       "5  7237550310 2014-05-12  1225000.0         4\n",
       "6  1321400060 2014-06-27   257500.0         3\n",
       "7  2008000270 2015-01-15   291850.0         3\n",
       "8  2414600126 2015-04-15   229500.0         3\n",
       "9  3793500160 2015-03-12   323000.0         3"
      ]
     },
     "execution_count": 84,
     "metadata": {},
     "output_type": "execute_result"
    }
   ],
   "source": [
    "#metodo n3\n",
    "data.iloc[0:10, 0:4]"
   ]
  },
  {
   "cell_type": "code",
   "execution_count": 85,
   "id": "05cb3e64",
   "metadata": {},
   "outputs": [
    {
     "data": {
      "text/html": [
       "<div>\n",
       "<style scoped>\n",
       "    .dataframe tbody tr th:only-of-type {\n",
       "        vertical-align: middle;\n",
       "    }\n",
       "\n",
       "    .dataframe tbody tr th {\n",
       "        vertical-align: top;\n",
       "    }\n",
       "\n",
       "    .dataframe thead th {\n",
       "        text-align: right;\n",
       "    }\n",
       "</style>\n",
       "<table border=\"1\" class=\"dataframe\">\n",
       "  <thead>\n",
       "    <tr style=\"text-align: right;\">\n",
       "      <th></th>\n",
       "      <th>id</th>\n",
       "      <th>date</th>\n",
       "      <th>price</th>\n",
       "      <th>floors</th>\n",
       "      <th>zipcode</th>\n",
       "    </tr>\n",
       "  </thead>\n",
       "  <tbody>\n",
       "    <tr>\n",
       "      <th>0</th>\n",
       "      <td>7129300520</td>\n",
       "      <td>2014-10-13</td>\n",
       "      <td>221900.0</td>\n",
       "      <td>1.0</td>\n",
       "      <td>98178</td>\n",
       "    </tr>\n",
       "    <tr>\n",
       "      <th>1</th>\n",
       "      <td>6414100192</td>\n",
       "      <td>2014-12-09</td>\n",
       "      <td>538000.0</td>\n",
       "      <td>2.0</td>\n",
       "      <td>98125</td>\n",
       "    </tr>\n",
       "    <tr>\n",
       "      <th>2</th>\n",
       "      <td>5631500400</td>\n",
       "      <td>2015-02-25</td>\n",
       "      <td>180000.0</td>\n",
       "      <td>1.0</td>\n",
       "      <td>98028</td>\n",
       "    </tr>\n",
       "    <tr>\n",
       "      <th>3</th>\n",
       "      <td>2487200875</td>\n",
       "      <td>2014-12-09</td>\n",
       "      <td>604000.0</td>\n",
       "      <td>1.0</td>\n",
       "      <td>98136</td>\n",
       "    </tr>\n",
       "    <tr>\n",
       "      <th>4</th>\n",
       "      <td>1954400510</td>\n",
       "      <td>2015-02-18</td>\n",
       "      <td>510000.0</td>\n",
       "      <td>1.0</td>\n",
       "      <td>98074</td>\n",
       "    </tr>\n",
       "    <tr>\n",
       "      <th>...</th>\n",
       "      <td>...</td>\n",
       "      <td>...</td>\n",
       "      <td>...</td>\n",
       "      <td>...</td>\n",
       "      <td>...</td>\n",
       "    </tr>\n",
       "    <tr>\n",
       "      <th>21608</th>\n",
       "      <td>263000018</td>\n",
       "      <td>2014-05-21</td>\n",
       "      <td>360000.0</td>\n",
       "      <td>3.0</td>\n",
       "      <td>98103</td>\n",
       "    </tr>\n",
       "    <tr>\n",
       "      <th>21609</th>\n",
       "      <td>6600060120</td>\n",
       "      <td>2015-02-23</td>\n",
       "      <td>400000.0</td>\n",
       "      <td>2.0</td>\n",
       "      <td>98146</td>\n",
       "    </tr>\n",
       "    <tr>\n",
       "      <th>21610</th>\n",
       "      <td>1523300141</td>\n",
       "      <td>2014-06-23</td>\n",
       "      <td>402101.0</td>\n",
       "      <td>2.0</td>\n",
       "      <td>98144</td>\n",
       "    </tr>\n",
       "    <tr>\n",
       "      <th>21611</th>\n",
       "      <td>291310100</td>\n",
       "      <td>2015-01-16</td>\n",
       "      <td>400000.0</td>\n",
       "      <td>2.0</td>\n",
       "      <td>98027</td>\n",
       "    </tr>\n",
       "    <tr>\n",
       "      <th>21612</th>\n",
       "      <td>1523300157</td>\n",
       "      <td>2014-10-15</td>\n",
       "      <td>325000.0</td>\n",
       "      <td>2.0</td>\n",
       "      <td>98144</td>\n",
       "    </tr>\n",
       "  </tbody>\n",
       "</table>\n",
       "<p>21613 rows × 5 columns</p>\n",
       "</div>"
      ],
      "text/plain": [
       "               id       date     price  floors  zipcode\n",
       "0      7129300520 2014-10-13  221900.0     1.0    98178\n",
       "1      6414100192 2014-12-09  538000.0     2.0    98125\n",
       "2      5631500400 2015-02-25  180000.0     1.0    98028\n",
       "3      2487200875 2014-12-09  604000.0     1.0    98136\n",
       "4      1954400510 2015-02-18  510000.0     1.0    98074\n",
       "...           ...        ...       ...     ...      ...\n",
       "21608   263000018 2014-05-21  360000.0     3.0    98103\n",
       "21609  6600060120 2015-02-23  400000.0     2.0    98146\n",
       "21610  1523300141 2014-06-23  402101.0     2.0    98144\n",
       "21611   291310100 2015-01-16  400000.0     2.0    98027\n",
       "21612  1523300157 2014-10-15  325000.0     2.0    98144\n",
       "\n",
       "[21613 rows x 5 columns]"
      ]
     },
     "execution_count": 85,
     "metadata": {},
     "output_type": "execute_result"
    }
   ],
   "source": [
    "#Metodo n4\n",
    "data.columns\n",
    "cols = [True,True,True,False,False,False,False,True,False,False,False,False,False,False,False,False,True,False,False,False,False,\n",
    "         False]\n",
    "data.iloc[:, cols]"
   ]
  },
  {
   "cell_type": "markdown",
   "id": "46fb2b19",
   "metadata": {},
   "source": [
    "# 19- SALVE UM ARQUIVO.CSV COM SOMENTE AS COLUNAS DO ITEM 10 AO 17."
   ]
  },
  {
   "cell_type": "code",
   "execution_count": 86,
   "id": "53e170f5",
   "metadata": {},
   "outputs": [],
   "source": [
    "data[['house_age','dormitory_type','condition_type']].to_csv('D:\\\\repositorio\\\\datasets\\\\exercicio_19.csv')"
   ]
  },
  {
   "cell_type": "markdown",
   "id": "6e1a5554",
   "metadata": {},
   "source": [
    "# 20-MODIFIQUE A COR DOS PONTOS NO MAPA DE 'PINK' PARA 'VERDE-ESCURO'"
   ]
  },
  {
   "cell_type": "code",
   "execution_count": null,
   "id": "eb9152a9",
   "metadata": {},
   "outputs": [],
   "source": []
  }
 ],
 "metadata": {
  "kernelspec": {
   "display_name": "Python 3 (ipykernel)",
   "language": "python",
   "name": "python3"
  },
  "language_info": {
   "codemirror_mode": {
    "name": "ipython",
    "version": 3
   },
   "file_extension": ".py",
   "mimetype": "text/x-python",
   "name": "python",
   "nbconvert_exporter": "python",
   "pygments_lexer": "ipython3",
   "version": "3.10.3"
  }
 },
 "nbformat": 4,
 "nbformat_minor": 5
}
